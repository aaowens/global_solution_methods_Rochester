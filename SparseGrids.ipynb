{
 "cells": [
  {
   "cell_type": "code",
   "execution_count": null,
   "metadata": {},
   "outputs": [],
   "source": [
    "using Interpolations, Optim, BenchmarkTools, QuantEcon, Distributions\n",
    "const agrid = exp.(range(log(1), stop = log(200), length = 100 )) .- 1\n",
    "uc(c) = c > 0 ? c^(-1.5)/-1.5 : -Inf\n",
    "u(a, ap, x) =  uc(a - ap + x + freemoney)\n",
    "maxap(a, x) = a + x\n",
    "const beta = 0.96\n",
    "using Random\n",
    "Random.seed!(2)\n",
    "mc = QuantEcon.tauchen(20, .8, .5)\n",
    "const ρ = 0.8\n",
    "const σ_e = 0.5\n",
    "const P = mc.p\n",
    "const xgrid = exp.(mc.state_values) .+ 0.1\n",
    "const tol = 1e-2\n",
    "const freemoney = 0.01\n",
    "\n",
    "\n",
    "## Now we want instead VF to be a sparse grid defined on\n",
    "# [amin, amax] x [xmin, xmax]\n",
    "# later let's add the parameter beta to the space too\n",
    "using Tasmanian\n",
    "using Expectations\n",
    "using LinearAlgebra\n",
    "\n",
    "\n",
    "# Bellman step given evf and x\n",
    "# evf is a function which provides E[VF[a', x] | a'], integrating over x\n",
    "# We will update VF for each value of a\n",
    "function bellman(evf, a, x)\n",
    "    obj = ap -> -(u(a, ap, x) + beta * evf(ap))\n",
    "    upper = min(maxap(a, x), agrid[end])\n",
    "    sol = optimize(obj, agrid[1], .99*upper)\n",
    "    vf, pol = -sol.minimum, sol.minimizer\n",
    "    return vf, pol\n",
    "end\n",
    "\n",
    "## Compute the expected value function\n",
    "## Returns a function of a giving E[VF[a', x] | a']\n",
    "## Integrates over x\n",
    "const dist = Normal(0, σ_e)\n",
    "const E = Expectations.expectation(dist, n = 10)\n",
    "\n",
    "function vf_expectation(tsg, x)\n",
    "    function evf(a)\n",
    "        xmin, xmax = minimum(xgrid), maximum(xgrid)\n",
    "        # Interpolation not defined outside the grid, so clamp it\n",
    "        # Shift the nodes by the mean, which is ρx. Variance is constant\n",
    "        # The exp makes the productivity positive (lognormal)\n",
    "        points = [[a for i in 1:10] clamp.(exp.(nodes(E) .+ ρ*x), xmin, xmax)]\n",
    "        vals = Tasmanian.evaluateBatch(tsg, points)\n",
    "        val = E*vals\n",
    "    end\n",
    "end\n",
    "\n",
    "function makeInitialGrid()\n",
    "    iDim = 2\n",
    "    iOut = 1\n",
    "    iDepth = 5\n",
    "    tsg = Tasmanian.TasmanianSG(iDim,iOut,iDepth)\n",
    "    which_basis = 2 # 1= linear basis functions -> Check the manual for other options\n",
    "    Tasmanian.makeLocalPolynomialGrid!(tsg,iOrder=which_basis,sRule=\"localp\")\n",
    "    doms = [minimum(agrid) maximum(agrid)\n",
    "    minimum(xgrid) maximum(xgrid)]\n",
    "    Tasmanian.setDomainTransform!(tsg, doms)\n",
    "    tsg\n",
    "end\n",
    "\n",
    "function test_serial(J)\n",
    "    tol = 1e-3\n",
    "    tsg = makeInitialGrid()\n",
    "    grid = Tasmanian.getPoints(tsg) # (a, x)\n",
    "    VF = zeros(size(grid, 1))\n",
    "    pols = zeros(size(grid, 1))\n",
    "    Tasmanian.loadNeededPoints!(tsg, VF)\n",
    "    for i in 1:10\n",
    "        tsgnew = makeInitialGrid()\n",
    "        grid = Tasmanian.getPoints(tsgnew) # (a, x)\n",
    "        vfnew = zeros(size(grid, 1))\n",
    "        for j = 1:J\n",
    "            needpoints = Tasmanian.getNeededPoints(tsgnew)\n",
    "            needvals = zeros(size(needpoints, 1))\n",
    "            @assert length(size(needpoints)) == 2\n",
    "            for (p_nx, p) in enumerate(eachrow(needpoints))\n",
    "                a = p[1]; x = p[2]\n",
    "                vfe = vf_expectation(tsg, x) # On OLD grid\n",
    "                vf, pol = bellman(vfe, a, x)\n",
    "                needvals[p_nx] = vf\n",
    "            end\n",
    "            Tasmanian.loadNeededPoints!(tsgnew, needvals)\n",
    "            Tasmanian.setSurplusRefinement!(tsgnew, tol, sCriteria=\"classic\")\n",
    "            @show Tasmanian.getNumPoints(tsgnew)\n",
    "        end\n",
    "        err = norm(Tasmanian.evaluateBatch(tsg, grid |> collect) .- Tasmanian.evaluateBatch(tsgnew, grid |> collect))\n",
    "        @show err\n",
    "        tsg = tsgnew\n",
    "    end\n",
    "    grid = Tasmanian.getPoints(tsg) # (a, x)\n",
    "    return VF, pols, grid, tsg\n",
    "end"
   ]
  },
  {
   "cell_type": "code",
   "execution_count": null,
   "metadata": {},
   "outputs": [],
   "source": [
    "## IMPORTANT\n",
    "# Tasmanian is 10x faster if I compile it myself, instead of using the one\n",
    "# packaged with Tasmanian.jl\n",
    "\n",
    "# Run with 8 adaptive grid refinements\n",
    "vfall, polall, g, t = test_serial(8);"
   ]
  },
  {
   "cell_type": "code",
   "execution_count": null,
   "metadata": {},
   "outputs": [],
   "source": [
    "using Plots\n",
    "denseg = [j == 1 ? agrid[i] : 0.5 for i in eachindex(agrid), j in 1:2]\n",
    "f = Tasmanian.evaluateBatch(t, denseg)\n",
    "plot(denseg[:, 1], f)"
   ]
  },
  {
   "cell_type": "code",
   "execution_count": null,
   "metadata": {},
   "outputs": [],
   "source": [
    "scatter(Tasmanian.getPoints(t)[:, 1], Tasmanian.getPoints(t)[:, 2])"
   ]
  },
  {
   "cell_type": "code",
   "execution_count": null,
   "metadata": {},
   "outputs": [],
   "source": [
    "# Run with 15 adaptive grid refinements\n",
    "vfall, polall, g, t = test_serial(15);"
   ]
  },
  {
   "cell_type": "code",
   "execution_count": null,
   "metadata": {},
   "outputs": [],
   "source": [
    "denseg = [j == 1 ? agrid[i] : 0.5 for i in eachindex(agrid), j in 1:2]\n",
    "f = Tasmanian.evaluateBatch(t, denseg)\n",
    "plot(denseg[:, 1], f)"
   ]
  },
  {
   "cell_type": "code",
   "execution_count": null,
   "metadata": {},
   "outputs": [],
   "source": [
    "scatter(Tasmanian.getPoints(t)[:, 1], Tasmanian.getPoints(t)[:, 2])"
   ]
  }
 ],
 "metadata": {
  "@webio": {
   "lastCommId": null,
   "lastKernelId": null
  },
  "kernelspec": {
   "display_name": "Julia 1.3.0",
   "language": "julia",
   "name": "julia-1.3"
  },
  "language_info": {
   "file_extension": ".jl",
   "mimetype": "application/julia",
   "name": "julia",
   "version": "1.3.0"
  }
 },
 "nbformat": 4,
 "nbformat_minor": 2
}
